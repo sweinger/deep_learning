{
 "cells": [
  {
   "cell_type": "markdown",
   "id": "d6a3f541",
   "metadata": {},
   "source": [
    "# Recurrent neural network implementation"
   ]
  },
  {
   "cell_type": "markdown",
   "id": "9aac8a04",
   "metadata": {},
   "source": [
    "This notebook contains a Python implementation of a simple recurrent neural network with a single hidden layer."
   ]
  },
  {
   "cell_type": "code",
   "execution_count": 1,
   "id": "e5d3507d",
   "metadata": {},
   "outputs": [],
   "source": [
    "import numpy as np"
   ]
  },
  {
   "cell_type": "code",
   "execution_count": 2,
   "id": "b4611d21",
   "metadata": {},
   "outputs": [],
   "source": [
    "with open(\"input.txt\") as f:\n",
    "    data = list(f.read())"
   ]
  },
  {
   "cell_type": "code",
   "execution_count": 3,
   "id": "8ed85075",
   "metadata": {},
   "outputs": [],
   "source": [
    "chars = list(set(data))"
   ]
  },
  {
   "cell_type": "code",
   "execution_count": 4,
   "id": "172df741",
   "metadata": {},
   "outputs": [],
   "source": [
    "char_to_index = {chars[i]: i for i in range(len(chars))}\n",
    "index_to_chars = {char_to_index[c]: c for c in chars}"
   ]
  },
  {
   "cell_type": "code",
   "execution_count": 5,
   "id": "b0d7f08b",
   "metadata": {},
   "outputs": [],
   "source": [
    "num_chars = len(chars)\n",
    "data_len = len(data)"
   ]
  },
  {
   "cell_type": "code",
   "execution_count": 6,
   "id": "5db54f37",
   "metadata": {},
   "outputs": [],
   "source": [
    "X = np.zeros((data_len, num_chars))\n",
    "X[np.arange(data_len), [char_to_index[s] for s in data]] = 1\n",
    "Y = X[1:,:]\n",
    "X = X[:-1,:]"
   ]
  },
  {
   "cell_type": "code",
   "execution_count": 7,
   "id": "b4c580d0",
   "metadata": {},
   "outputs": [],
   "source": [
    "training_examples = 10000\n",
    "\n",
    "X = X[:training_examples]\n",
    "Y = Y[:training_examples]"
   ]
  },
  {
   "cell_type": "code",
   "execution_count": 8,
   "id": "4eea1c2d",
   "metadata": {},
   "outputs": [
    {
     "name": "stdout",
     "output_type": "stream",
     "text": [
      "(10000, 65)\n",
      "(10000, 65)\n"
     ]
    }
   ],
   "source": [
    "print(X.shape)\n",
    "print(Y.shape)"
   ]
  },
  {
   "cell_type": "code",
   "execution_count": 9,
   "id": "3d59f6c1",
   "metadata": {},
   "outputs": [],
   "source": [
    "sequence_length = 25\n",
    "hidden_units = 128\n",
    "learning_rate = 0.001\n",
    "max_bptt_steps = 5"
   ]
  },
  {
   "cell_type": "code",
   "execution_count": 10,
   "id": "18ba709b",
   "metadata": {},
   "outputs": [],
   "source": [
    "# propagage a sequence forward through the network and return the outputs and hidden states\n",
    "def forward_prop(inputs):\n",
    "    h = np.zeros((len(inputs)+1, hidden_units, 1))\n",
    "    o = np.zeros((len(inputs), num_chars, 1))\n",
    "\n",
    "    for t in range(len(inputs)):\n",
    "        x_t = inputs[t]             \n",
    "        h[t] = np.tanh(np.dot(U, x_t) + np.dot(W, h[t-1]) + b)\n",
    "        z_t = np.dot(V, h[t]) + c\n",
    "        o[t] = np.exp(z_t)/np.sum(np.exp(z_t))\n",
    "    \n",
    "    return o, h"
   ]
  },
  {
   "cell_type": "code",
   "execution_count": 11,
   "id": "9bfde769",
   "metadata": {},
   "outputs": [],
   "source": [
    "def back_prop(inputs, targets):\n",
    "    \n",
    "    # initialize gradients\n",
    "    dU = np.zeros_like(U)\n",
    "    dW = np.zeros_like(W)\n",
    "    db = np.zeros_like(b)\n",
    "    dV = np.zeros_like(V)\n",
    "    dc = np.zeros_like(c)      \n",
    "    \n",
    "    for t in reversed(range(sequence_length)):\n",
    "        dV += np.outer(o[t] - targets[t], h[t])\n",
    "        dc += (o[t] - targets[t])\n",
    "        dz_t = np.dot(V.T, o[t] - targets[t]) * (1 - h[t] ** 2)\n",
    "        for k in reversed(range(max(0, t - max_bptt_steps), t + 1)):\n",
    "            dW += np.outer(dz_t, h[k-1])\n",
    "            dU += np.outer(dz_t, inputs[k])\n",
    "            db += dz_t\n",
    "            dz_t = np.dot(W.T, dz_t) * (1 - h[k] ** 2)\n",
    "    \n",
    "    return dU, dW, db, dV, dc"
   ]
  },
  {
   "cell_type": "code",
   "execution_count": 12,
   "id": "64b3b01f",
   "metadata": {},
   "outputs": [],
   "source": [
    "def calculate_total_loss(targets, predictions):\n",
    "    return -1 * np.sum(np.log(predictions[np.arange(len(targets)), np.argmax(targets, axis=1).reshape(-1)]))\n",
    "\n",
    "def calculate_cost(X, Y):\n",
    "    L = 0\n",
    "    N = 0\n",
    "    \n",
    "    pos = 0\n",
    "    while pos <= (len(X)-sequence_length):\n",
    "        s = slice(pos, (pos+sequence_length))\n",
    "        inputs = np.expand_dims(X[s,:], axis=-1)\n",
    "        targets = np.expand_dims(Y[s,:], axis=-1)        \n",
    "        o, h = forward_prop(inputs)\n",
    "        L += calculate_total_loss(targets, o)\n",
    "        N += targets.shape[0]\n",
    "        pos += sequence_length\n",
    "        \n",
    "    return L / N"
   ]
  },
  {
   "cell_type": "code",
   "execution_count": 13,
   "id": "b22186b0",
   "metadata": {},
   "outputs": [
    {
     "name": "stdout",
     "output_type": "stream",
     "text": [
      "(128, 65)\n",
      "(128, 128)\n",
      "(128, 1)\n",
      "(65, 128)\n",
      "(65, 1)\n",
      "epoch: 0, cost: 4.178889636225676\n",
      "epoch: 1, cost: 3.262298094106931\n",
      "epoch: 2, cost: 3.2061573133875116\n",
      "epoch: 3, cost: 3.1304089179587185\n",
      "epoch: 4, cost: 3.020501821352576\n",
      "epoch: 5, cost: 2.9241922110315297\n",
      "epoch: 6, cost: 2.8428504187759285\n",
      "epoch: 7, cost: 2.7720839006548728\n",
      "epoch: 8, cost: 2.7085786748051945\n",
      "epoch: 9, cost: 2.650344119506688\n"
     ]
    }
   ],
   "source": [
    "# initialize parameters\n",
    "U = np.random.uniform(low=-1/np.sqrt(num_chars), high=1/np.sqrt(num_chars), size=(hidden_units, num_chars))\n",
    "W = np.random.uniform(low=-1/np.sqrt(hidden_units), high=1/np.sqrt(hidden_units), size=(hidden_units, hidden_units))\n",
    "b = np.zeros((hidden_units, 1))\n",
    "V = np.random.uniform(low=-1/np.sqrt(hidden_units), high=1/np.sqrt(hidden_units), size=(num_chars, hidden_units))\n",
    "c = np.zeros((num_chars, 1))\n",
    "\n",
    "print(U.shape)\n",
    "print(W.shape)\n",
    "print(b.shape)\n",
    "print(V.shape)\n",
    "print(c.shape)\n",
    "\n",
    "for i in range(10):\n",
    "\n",
    "    print(f\"epoch: {i}, cost: {calculate_cost(X, Y)}\")\n",
    "\n",
    "    pos = 0\n",
    "    while pos <= (X.shape[0]-sequence_length):       \n",
    "\n",
    "        s = slice(pos, (pos+sequence_length))\n",
    "        inputs = np.expand_dims(X[s,:], axis=-1)\n",
    "        targets = np.expand_dims(Y[s,:], axis=-1)  \n",
    "        \n",
    "        # forward prop\n",
    "        o, h = forward_prop(inputs)\n",
    "\n",
    "        # back prop\n",
    "        dU, dW, db, dV, dc = back_prop(inputs, targets)\n",
    "                \n",
    "        U = U - learning_rate * dU\n",
    "        W = W - learning_rate * dW\n",
    "        b = b - learning_rate * db\n",
    "        V = V - learning_rate * dV\n",
    "        c = c - learning_rate * dc                 \n",
    "\n",
    "        pos += sequence_length\n"
   ]
  },
  {
   "cell_type": "code",
   "execution_count": null,
   "id": "486affff",
   "metadata": {},
   "outputs": [],
   "source": []
  }
 ],
 "metadata": {
  "kernelspec": {
   "display_name": "Python 3 (ipykernel)",
   "language": "python",
   "name": "python3"
  },
  "language_info": {
   "codemirror_mode": {
    "name": "ipython",
    "version": 3
   },
   "file_extension": ".py",
   "mimetype": "text/x-python",
   "name": "python",
   "nbconvert_exporter": "python",
   "pygments_lexer": "ipython3",
   "version": "3.10.9"
  }
 },
 "nbformat": 4,
 "nbformat_minor": 5
}
